{
 "cells": [
  {
   "cell_type": "code",
   "execution_count": 19,
   "id": "35134822",
   "metadata": {},
   "outputs": [
    {
     "name": "stdout",
     "output_type": "stream",
     "text": [
      "Brand: Toyota, Model: Corolla, Mileage: 18 km/l, Fuel Type: Petrol\n"
     ]
    }
   ],
   "source": [
    "\n",
    "class Vehicle:\n",
    "    def __init__(self, brand, model):\n",
    "        self.brand = brand\n",
    "        self.model = model\n",
    "\n",
    "class Car(Vehicle):\n",
    "    def __init__(self, brand, model, mileage, fuel_type):\n",
    "        super().__init__(brand, model)\n",
    "        self.mileage = mileage\n",
    "        self.fuel_type = fuel_type\n",
    "\n",
    "    def display_info(self):\n",
    "        return f\"Brand: {self.brand}, Model: {self.model}, Mileage: {self.mileage} km/l, Fuel Type: {self.fuel_type}\"\n",
    "\n",
    "car = Car(\"Toyota\", \"Corolla\", 18, \"Petrol\")\n",
    "print(car.display_info())"
   ]
  },
  {
   "cell_type": "code",
   "execution_count": 20,
   "id": "d83b8737",
   "metadata": {},
   "outputs": [
    {
     "data": {
      "text/plain": [
       "'date: 25, month: 12, year: 2023 hour: 10, minute: 30, second: 45 '"
      ]
     },
     "execution_count": 20,
     "metadata": {},
     "output_type": "execute_result"
    }
   ],
   "source": [
    "class Calendar:\n",
    "    def __init__(self, date, month, year):\n",
    "        self.date = date\n",
    "        self.month = month\n",
    "        self.year = year\n",
    "\n",
    "    def display_date(self):\n",
    "        return(f\"date: {self.date}, month: {self.month}, year: {self.year} \")\n",
    "\n",
    "class Clock:\n",
    "    def __init__(self, hour, minute, second):\n",
    "        self.hour = hour\n",
    "        self.minute = minute\n",
    "        self.second = second\n",
    "\n",
    "    def display_time(self):\n",
    "        return(f\"hour: {self.hour}, minute: {self.minute}, second: {self.second} \")\n",
    "\n",
    "\n",
    "class Calendar_Clock(Calendar, Clock):\n",
    "    def __init__(self, hour, minute, second, date, month, year):\n",
    "        Clock.__init__(self, hour, minute, second)\n",
    "        Calendar.__init__(self, date, month, year)\n",
    "\n",
    "    def display(self):\n",
    "        return(self.display_date() + self.display_time())\n",
    "\n",
    "calendar_clock = Calendar_Clock(10, 30, 45, 25, 12, 2023)\n",
    "calendar_clock.display()\n"
   ]
  },
  {
   "cell_type": "code",
   "execution_count": null,
   "id": "085268c7",
   "metadata": {},
   "outputs": [
    {
     "name": "stdout",
     "output_type": "stream",
     "text": [
      "Total marks:  270\n",
      "Average marks:  90.0\n"
     ]
    }
   ],
   "source": [
    "\n",
    "class Person:\n",
    "    def __init__(self, name, age):\n",
    "        self.name = name\n",
    "        self.age = age\n",
    "\n",
    "class Student(Person):\n",
    "    def __init__(self, name, age, roll_number):\n",
    "        super().__init__(name, age)\n",
    "        self.roll_number = roll_number\n",
    "\n",
    "class Exam(Student):\n",
    "    def __init__(self, name, age, roll_number):\n",
    "        super().__init__(name, age, roll_number)\n",
    "\n",
    "    def display(self):\n",
    "\n",
    "        x = int(input(\"Enter marks of subject 1: \"))\n",
    "        y = int(input(\"Enter marks of subject 2: \"))\n",
    "        z = int(input(\"Enter marks of subject 3: \"))\n",
    "\n",
    "        total = x + y + z\n",
    "\n",
    "        avg = total / 3\n",
    "\n",
    "        print(\"Total marks: \", total)\n",
    "        print(\"Average marks: \", avg)\n",
    "\n",
    "\n",
    "exam = Exam(\"John Doe\", 20, \"12345\")\n",
    "exam.display()\n"
   ]
  },
  {
   "cell_type": "code",
   "execution_count": 16,
   "id": "0d809903",
   "metadata": {},
   "outputs": [
    {
     "name": "stdout",
     "output_type": "stream",
     "text": [
      "Gola - Area: 78.53981633974483, Perimeter: 31.41592653589793\n",
      "TeenKon - Area: 6.0, Perimeter: 12\n",
      "ChaarKoni - Area: 16, Perimeter: 16\n"
     ]
    }
   ],
   "source": [
    "import math\n",
    "\n",
    "class Cheez:\n",
    "    def area(self):\n",
    "        pass\n",
    "\n",
    "    def perimeter(self):\n",
    "        pass\n",
    "\n",
    "class Gola(Cheez):\n",
    "    def __init__(self, golapan):\n",
    "        self.golapan = golapan\n",
    "\n",
    "    def area(self):\n",
    "        return math.pi * self.golapan ** 2\n",
    "\n",
    "    def perimeter(self):\n",
    "        return 2 * math.pi * self.golapan\n",
    "\n",
    "class TeenKon(Cheez):\n",
    "    def __init__(self, ek, do, teen):\n",
    "        self.ek = ek\n",
    "        self.do = do\n",
    "        self.teen = teen\n",
    "\n",
    "    def area(self):\n",
    "        s = (self.ek + self.do + self.teen) / 2\n",
    "        return math.sqrt(s * (s - self.ek) * (s - self.do) * (s - self.teen))\n",
    "\n",
    "    def perimeter(self):\n",
    "        return self.ek + self.do + self.teen\n",
    "\n",
    "class ChaarKoni(Cheez):\n",
    "    def __init__(self, sidey):\n",
    "        self.sidey = sidey\n",
    "\n",
    "    def area(self):\n",
    "        return self.sidey ** 2\n",
    "\n",
    "    def perimeter(self):\n",
    "        return 4 * self.sidey\n",
    "\n",
    "g = Gola(5)\n",
    "print(f\"Gola - Area: {g.area()}, Perimeter: {g.perimeter()}\")\n",
    "\n",
    "t = TeenKon(3, 4, 5)\n",
    "print(f\"TeenKon - Area: {t.area()}, Perimeter: {t.perimeter()}\")\n",
    "\n",
    "s = ChaarKoni(4)\n",
    "print(f\"ChaarKoni - Area: {s.area()}, Perimeter: {s.perimeter()}\")\n"
   ]
  },
  {
   "cell_type": "code",
   "execution_count": 17,
   "id": "27c54328",
   "metadata": {},
   "outputs": [
    {
     "name": "stdout",
     "output_type": "stream",
     "text": [
      "Guru: Dr. StrangeCode\n",
      "Brunch: ECE\n",
      "Uni: Bakchod Uni\n"
     ]
    }
   ],
   "source": [
    "class Uni:\n",
    "    def __init__(self, uniname):\n",
    "        self.uniname = uniname\n",
    "\n",
    "    def show_details(self):\n",
    "        print(\"Uni:\", self.uniname)\n",
    "\n",
    "class Brunch(Uni):\n",
    "    def __init__(self, uniname, brunchname):\n",
    "        super().__init__(uniname)\n",
    "        self.brunchname = brunchname\n",
    "\n",
    "    def show_details(self):\n",
    "        print(\"Uni:\", self.uniname)\n",
    "        print(\"Brunch:\", self.brunchname)\n",
    "\n",
    "class Khaand(Uni):\n",
    "    def __init__(self, uniname, khaandname):\n",
    "        super().__init__(uniname)\n",
    "        self.khaandname = khaandname\n",
    "\n",
    "    def show_details(self):\n",
    "        print(\"Uni:\", self.uniname)\n",
    "        print(\"Khaand:\", self.khaandname)\n",
    "\n",
    "class Baccha(Brunch):\n",
    "    def __init__(self, uniname, brunchname, bname):\n",
    "        super().__init__(uniname, brunchname)\n",
    "        self.bname = bname\n",
    "\n",
    "    def show_details(self):\n",
    "        print(\"Naam:\", self.bname)\n",
    "        print(\"Brunch:\", self.brunchname)\n",
    "        print(\"Uni:\", self.uniname)\n",
    "\n",
    "class Guruji(Brunch):\n",
    "    def __init__(self, uniname, brunchname, gname):\n",
    "        super().__init__(uniname, brunchname)\n",
    "        self.gname = gname\n",
    "\n",
    "    def show_details(self):\n",
    "        print(\"Guru:\", self.gname)\n",
    "        print(\"Brunch:\", self.brunchname)\n",
    "        print(\"Uni:\", self.uniname)\n",
    "\n",
    "f = Guruji(\"Bakchod Uni\", \"ECE\", \"Dr. StrangeCode\")\n",
    "f.show_details()\n"
   ]
  },
  {
   "cell_type": "code",
   "execution_count": null,
   "id": "7485f673",
   "metadata": {},
   "outputs": [],
   "source": []
  }
 ],
 "metadata": {
  "kernelspec": {
   "display_name": "Python 3",
   "language": "python",
   "name": "python3"
  },
  "language_info": {
   "codemirror_mode": {
    "name": "ipython",
    "version": 3
   },
   "file_extension": ".py",
   "mimetype": "text/x-python",
   "name": "python",
   "nbconvert_exporter": "python",
   "pygments_lexer": "ipython3",
   "version": "3.13.2"
  }
 },
 "nbformat": 4,
 "nbformat_minor": 5
}
